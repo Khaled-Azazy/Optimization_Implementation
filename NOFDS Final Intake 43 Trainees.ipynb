{
 "cells": [
  {
   "cell_type": "markdown",
   "id": "32b92576",
   "metadata": {},
   "source": [
    "# Task 1:\n",
    "## Implement the Adam (Batch Version) algorithm to train a multivariable linear regression model.\n",
    "\n",
    "\n",
    "### Please fulfil the following requirements:\n",
    "<br>\n",
    "<b>\n",
    "    \n",
    "    1. Check your implementation on the data in the attached file.\n",
    "    2. You must obtain r2-score > 0.9.\n",
    "    3. You must plot the following curves.\n",
    "        - Loss vs. iterations.\n",
    "        - Loss vs. each parameter (i.e. loss vs theta 0, loss vs. theta 1 .... etc.).\n",
    "    4. Choose hyper parameters to obtain the required accuracy.\n",
    "    5. The implementation must be vectoried and calculations must be performed as matrix vector \n",
    "    multiplications.\n",
    "    6. Apply the stop conditions (gradient < 0.001 and cost convergence check).                                            \n",
    "</b>"
   ]
  },
  {
   "cell_type": "code",
   "execution_count": 1,
   "id": "08806c5d",
   "metadata": {},
   "outputs": [],
   "source": [
    "import numpy as np\n",
    "import matplotlib.pyplot as plt\n",
    "import seaborn as sns\n",
    "sns.set_style('whitegrid')"
   ]
  },
  {
   "cell_type": "code",
   "execution_count": 2,
   "id": "3589dab5",
   "metadata": {},
   "outputs": [
    {
     "data": {
      "text/plain": [
       "array([[ 73.,  80.,  75., 152.],\n",
       "       [ 93.,  88.,  93., 185.],\n",
       "       [ 89.,  91.,  90., 180.],\n",
       "       [ 96.,  98., 100., 196.],\n",
       "       [ 73.,  66.,  70., 142.],\n",
       "       [ 53.,  46.,  55., 101.],\n",
       "       [ 69.,  74.,  77., 149.],\n",
       "       [ 47.,  56.,  60., 115.],\n",
       "       [ 87.,  79.,  90., 175.],\n",
       "       [ 79.,  70.,  88., 164.],\n",
       "       [ 69.,  70.,  73., 141.],\n",
       "       [ 70.,  65.,  74., 141.],\n",
       "       [ 93.,  95.,  91., 184.],\n",
       "       [ 79.,  80.,  73., 152.],\n",
       "       [ 70.,  73.,  78., 148.],\n",
       "       [ 93.,  89.,  96., 192.],\n",
       "       [ 78.,  75.,  68., 147.],\n",
       "       [ 81.,  90.,  93., 183.],\n",
       "       [ 88.,  92.,  86., 177.],\n",
       "       [ 78.,  83.,  77., 159.],\n",
       "       [ 82.,  86.,  90., 177.],\n",
       "       [ 86.,  82.,  89., 175.],\n",
       "       [ 78.,  83.,  85., 175.],\n",
       "       [ 76.,  83.,  71., 149.],\n",
       "       [ 96.,  93.,  95., 192.]])"
      ]
     },
     "execution_count": 2,
     "metadata": {},
     "output_type": "execute_result"
    }
   ],
   "source": [
    "data = np.genfromtxt('MultiVarLR.csv',delimiter=',')\n",
    "data"
   ]
  },
  {
   "cell_type": "code",
   "execution_count": 3,
   "id": "d03b17d4",
   "metadata": {},
   "outputs": [
    {
     "data": {
      "text/plain": [
       "array([[ 73.,  80.,  75.],\n",
       "       [ 93.,  88.,  93.],\n",
       "       [ 89.,  91.,  90.],\n",
       "       [ 96.,  98., 100.],\n",
       "       [ 73.,  66.,  70.],\n",
       "       [ 53.,  46.,  55.],\n",
       "       [ 69.,  74.,  77.],\n",
       "       [ 47.,  56.,  60.],\n",
       "       [ 87.,  79.,  90.],\n",
       "       [ 79.,  70.,  88.],\n",
       "       [ 69.,  70.,  73.],\n",
       "       [ 70.,  65.,  74.],\n",
       "       [ 93.,  95.,  91.],\n",
       "       [ 79.,  80.,  73.],\n",
       "       [ 70.,  73.,  78.],\n",
       "       [ 93.,  89.,  96.],\n",
       "       [ 78.,  75.,  68.],\n",
       "       [ 81.,  90.,  93.],\n",
       "       [ 88.,  92.,  86.],\n",
       "       [ 78.,  83.,  77.],\n",
       "       [ 82.,  86.,  90.],\n",
       "       [ 86.,  82.,  89.],\n",
       "       [ 78.,  83.,  85.],\n",
       "       [ 76.,  83.,  71.],\n",
       "       [ 96.,  93.,  95.]])"
      ]
     },
     "execution_count": 3,
     "metadata": {},
     "output_type": "execute_result"
    }
   ],
   "source": [
    "X = data[:,:-1]\n",
    "X"
   ]
  },
  {
   "cell_type": "code",
   "execution_count": 4,
   "id": "21df1fd0",
   "metadata": {},
   "outputs": [
    {
     "data": {
      "text/plain": [
       "array([[  1.,  73.,  80.,  75.],\n",
       "       [  1.,  93.,  88.,  93.],\n",
       "       [  1.,  89.,  91.,  90.],\n",
       "       [  1.,  96.,  98., 100.],\n",
       "       [  1.,  73.,  66.,  70.],\n",
       "       [  1.,  53.,  46.,  55.],\n",
       "       [  1.,  69.,  74.,  77.],\n",
       "       [  1.,  47.,  56.,  60.],\n",
       "       [  1.,  87.,  79.,  90.],\n",
       "       [  1.,  79.,  70.,  88.],\n",
       "       [  1.,  69.,  70.,  73.],\n",
       "       [  1.,  70.,  65.,  74.],\n",
       "       [  1.,  93.,  95.,  91.],\n",
       "       [  1.,  79.,  80.,  73.],\n",
       "       [  1.,  70.,  73.,  78.],\n",
       "       [  1.,  93.,  89.,  96.],\n",
       "       [  1.,  78.,  75.,  68.],\n",
       "       [  1.,  81.,  90.,  93.],\n",
       "       [  1.,  88.,  92.,  86.],\n",
       "       [  1.,  78.,  83.,  77.],\n",
       "       [  1.,  82.,  86.,  90.],\n",
       "       [  1.,  86.,  82.,  89.],\n",
       "       [  1.,  78.,  83.,  85.],\n",
       "       [  1.,  76.,  83.,  71.],\n",
       "       [  1.,  96.,  93.,  95.]])"
      ]
     },
     "execution_count": 4,
     "metadata": {},
     "output_type": "execute_result"
    }
   ],
   "source": [
    "ones = np.ones((X.shape[0],1))\n",
    "X = np.concatenate((ones, X), axis=1)\n",
    "X"
   ]
  },
  {
   "cell_type": "code",
   "execution_count": 5,
   "id": "59322905",
   "metadata": {},
   "outputs": [
    {
     "data": {
      "text/plain": [
       "array([152., 185., 180., 196., 142., 101., 149., 115., 175., 164., 141.,\n",
       "       141., 184., 152., 148., 192., 147., 183., 177., 159., 177., 175.,\n",
       "       175., 149., 192.])"
      ]
     },
     "execution_count": 5,
     "metadata": {},
     "output_type": "execute_result"
    }
   ],
   "source": [
    "y = data[:,-1]\n",
    "y"
   ]
  },
  {
   "attachments": {},
   "cell_type": "markdown",
   "id": "dbfe0caa",
   "metadata": {},
   "source": [
    "### new to build a function that train an adam optimizer for multivariable \n",
    "### we need function to calc the mse, the gradient, momentum, adaptive learning rate, and one for all training process"
   ]
  },
  {
   "cell_type": "code",
   "execution_count": 256,
   "id": "043cf45a",
   "metadata": {},
   "outputs": [],
   "source": [
    "def MSE(error):\n",
    "    # 1/m * sum (yhat(i)-y(i))^2\n",
    "    error = error.reshape(-1)\n",
    "    return np.dot(error,error)/(2*len(error))"
   ]
  },
  {
   "cell_type": "code",
   "execution_count": 257,
   "id": "fc1eaeed",
   "metadata": {},
   "outputs": [],
   "source": [
    "def gradient(error,X):\n",
    "    # m*1  n*m\n",
    "    return np.matmul(X.T,error)/X.shape[0]\n"
   ]
  },
  {
   "cell_type": "code",
   "execution_count": 258,
   "id": "f70b67fd",
   "metadata": {},
   "outputs": [],
   "source": [
    "def update_theta(theta_vec, m_hat, v_hat, alpha, EPS):\n",
    "    return theta_vec - (alpha/(np.sqrt(v_hat)+EPS))*m_hat"
   ]
  },
  {
   "cell_type": "code",
   "execution_count": 259,
   "id": "948facc0",
   "metadata": {},
   "outputs": [],
   "source": [
    "def momentum(m,gradients,beta):\n",
    "    mom_vec = beta*m + (1-beta)*gradients\n",
    "    return mom_vec"
   ]
  },
  {
   "cell_type": "code",
   "execution_count": 260,
   "id": "37e129f7",
   "metadata": {},
   "outputs": [],
   "source": [
    "def adlr(v,gradients,gamma):\n",
    "    return gamma*v + (1-gamma)*(gradients**2)"
   ]
  },
  {
   "cell_type": "code",
   "execution_count": 261,
   "id": "4614dae5",
   "metadata": {},
   "outputs": [],
   "source": [
    "def shuffle_Date(X,y):\n",
    "    data = np.concatenate((X,y),axis=1)\n",
    "    np.random.shuffle(data)\n",
    "    X = data[:,:-1]\n",
    "    y = data[:,-1]\n",
    "    return X,y "
   ]
  },
  {
   "cell_type": "code",
   "execution_count": 262,
   "id": "e31f4202",
   "metadata": {},
   "outputs": [
    {
     "data": {
      "text/plain": [
       "(25, 4)"
      ]
     },
     "execution_count": 262,
     "metadata": {},
     "output_type": "execute_result"
    }
   ],
   "source": [
    "X.shape"
   ]
  },
  {
   "cell_type": "code",
   "execution_count": 301,
   "id": "ef3e3bbc",
   "metadata": {},
   "outputs": [],
   "source": [
    "def SGDoptimizer(X,y,epochs=100,BS=16,alpha=0.0001,beta=0.9,gamma=0.9,EPS=1e-8,shuffle=True):\n",
    "    n, m = X.shape[1], X.shape[0]\n",
    "    iter = m//BS\n",
    "    print(iter)\n",
    "    theta_Vector = np.zeros((n,1))\n",
    "    losses = []\n",
    "    thetas = []\n",
    "    if BS > m:\n",
    "        BS = m\n",
    "    # bathcsize = 5 then each 25/5 5 losses each epoch then I WANT TO SEE IF THE LAST LOSS WILL BE LARGE THAN 0\n",
    "    # 9 LOSS EQUAL 4\n",
    "    # 14 EQUAL 9\n",
    "    for i in range(epochs):\n",
    "        cnt = i + 1\n",
    "        X_shuffled, y_shuffled= shuffle_Date(X,y)\n",
    "        mom = np.zeros((n,1))\n",
    "        v = np.zeros((n,1))\n",
    "        for j in range(iter):\n",
    "            X_batch, y_batch = X_shuffled[j*BS:(j*BS)+BS,:], y_shuffled[j*BS:(j*BS)+BS].reshape(-1,1)\n",
    "            hx = np.matmul(X_batch,theta_Vector)\n",
    "            error = hx - y_batch\n",
    "            mse = MSE(error=error)\n",
    "            gradients_vector = gradient(error=error,X=X_batch)\n",
    "            mom = momentum(mom,gradients_vector,beta=beta)\n",
    "            v = adlr(v,gradients_vector,gamma)\n",
    "            m_hat = mom / (1-(beta**cnt))\n",
    "            v_hat = v / (1-(gamma**cnt))\n",
    "            theta_Vector = update_theta(theta_Vector,m_hat,v_hat,alpha,EPS)\n",
    "            losses.append(mse)\n",
    "            thetas.append(theta_Vector)\n",
    "        # if i > 0 and abs(losses[(iter*i)]) - losses[-1] < 0.0001:\n",
    "        #     print(len(losses))\n",
    "        #     break\n",
    "        if np.linalg.norm(gradients_vector) < 0.0001:\n",
    "            break\n",
    "\n",
    "    return losses, thetas"
   ]
  },
  {
   "cell_type": "code",
   "execution_count": 302,
   "id": "db8797dd",
   "metadata": {},
   "outputs": [],
   "source": [
    "y = y.reshape(-1,1)"
   ]
  },
  {
   "cell_type": "code",
   "execution_count": 315,
   "id": "8e81f0b4",
   "metadata": {},
   "outputs": [
    {
     "name": "stdout",
     "output_type": "stream",
     "text": [
      "25\n"
     ]
    }
   ],
   "source": [
    "losses, thetas = SGDoptimizer(X,y,epochs=10000,BS=1,alpha=0.001,beta=0.99,gamma=0.99)"
   ]
  },
  {
   "cell_type": "code",
   "execution_count": 316,
   "id": "dadf3f8c",
   "metadata": {},
   "outputs": [
    {
     "data": {
      "text/plain": [
       "27.695446813430713"
      ]
     },
     "execution_count": 316,
     "metadata": {},
     "output_type": "execute_result"
    }
   ],
   "source": [
    "losses[-1]"
   ]
  },
  {
   "cell_type": "code",
   "execution_count": 317,
   "id": "a3a7124d",
   "metadata": {},
   "outputs": [
    {
     "data": {
      "text/plain": [
       "0.9892823822317884"
      ]
     },
     "execution_count": 317,
     "metadata": {},
     "output_type": "execute_result"
    }
   ],
   "source": [
    "from sklearn.metrics import r2_score\n",
    "r2_score(y,np.matmul(X,thetas[-1]))"
   ]
  },
  {
   "cell_type": "code",
   "execution_count": 140,
   "id": "51fc16e5",
   "metadata": {},
   "outputs": [
    {
     "name": "stdout",
     "output_type": "stream",
     "text": [
      "1\n",
      "76727\n"
     ]
    }
   ],
   "source": [
    "losses2, thetas2 = SGDoptimizer(X,y,epochs=100000,BS=25,alpha=0.0001,beta=0.99,gamma=0.99)"
   ]
  },
  {
   "cell_type": "code",
   "execution_count": 141,
   "id": "ccf73297",
   "metadata": {},
   "outputs": [
    {
     "name": "stdout",
     "output_type": "stream",
     "text": [
      "1\n",
      "553\n"
     ]
    }
   ],
   "source": [
    "losses3, thetas3 = SGDoptimizer(X,y,epochs=10000,BS=25,alpha=0.01,beta=0.99,gamma=0.99)"
   ]
  },
  {
   "cell_type": "code",
   "execution_count": 155,
   "id": "22ea492c",
   "metadata": {},
   "outputs": [
    {
     "name": "stderr",
     "output_type": "stream",
     "text": [
      "No artists with labels found to put in legend.  Note that artists whose label start with an underscore are ignored when legend() is called with no argument.\n"
     ]
    },
    {
     "data": {
      "text/plain": [
       "<matplotlib.legend.Legend at 0x1a9e2d8d6a0>"
      ]
     },
     "execution_count": 155,
     "metadata": {},
     "output_type": "execute_result"
    },
    {
     "data": {
      "image/png": "[encoded data removed]",
      "text/plain": [
       "<Figure size 432x288 with 1 Axes>"
      ]
     },
     "metadata": {},
     "output_type": "display_data"
    }
   ],
   "source": [
    "plt.plot(losses)\n",
    "plt.plot(losses2)\n",
    "plt.plot(losses3)\n",
    "plt.legend()"
   ]
  },
  {
   "cell_type": "code",
   "execution_count": 149,
   "id": "6ccd1c98",
   "metadata": {},
   "outputs": [
    {
     "data": {
      "text/plain": [
       "(3.2802012299281866, 4.918039569039676, 6.018113773926634)"
      ]
     },
     "execution_count": 149,
     "metadata": {},
     "output_type": "execute_result"
    }
   ],
   "source": [
    "losses[-1], losses2[-1], losses3[-1]"
   ]
  },
  {
   "cell_type": "code",
   "execution_count": 60,
   "id": "07bdf294",
   "metadata": {},
   "outputs": [
    {
     "data": {
      "text/plain": [
       "[<matplotlib.lines.Line2D at 0x1a9de01ecd0>]"
      ]
     },
     "execution_count": 60,
     "metadata": {},
     "output_type": "execute_result"
    },
    {
     "data": {
      "image/png": "[encoded data removed]",
      "text/plain": [
       "<Figure size 432x288 with 1 Axes>"
      ]
     },
     "metadata": {},
     "output_type": "display_data"
    }
   ],
   "source": [
    "plt.plot(losses3)"
   ]
  },
  {
   "cell_type": "markdown",
   "id": "6b51a395",
   "metadata": {},
   "source": [
    "# Task 2\n",
    "## Repeat task 1 using BFGS optimizer instead of Adam.\n",
    "### All the requirments stated in task 1 must be also fulfilled in task 2.\n",
    "### Compare the results from task 1 and task 2 and write your conclusion. "
   ]
  },
  {
   "cell_type": "markdown",
   "id": "c72c6406",
   "metadata": {},
   "source": [
    "<font color='red'><b><b><i>Notes:</i></b></font>\n",
    "    \n",
    "<font color='red'><b><b><i>You are allowed to use the code you developed during practical sessions. However, it should be your own code.</i></b></font>\n",
    "\n",
    "<font color='red'><b><i>Any copied code from the internet will be considered as cheeeting</i></b></i></b></font>\n",
    "\n",
    "<font color='red'><b><i>Any code exchange between trainees will be considered as cheeeting</i></b></font>"
   ]
  },
  {
   "cell_type": "code",
   "execution_count": null,
   "id": "efaf8ab0",
   "metadata": {},
   "outputs": [],
   "source": []
  }
 ],
 "metadata": {
  "kernelspec": {
   "display_name": "Python 3 (ipykernel)",
   "language": "python",
   "name": "python3"
  },
  "language_info": {
   "codemirror_mode": {
    "name": "ipython",
    "version": 3
   },
   "file_extension": ".py",
   "mimetype": "text/x-python",
   "name": "python",
   "nbconvert_exporter": "python",
   "pygments_lexer": "ipython3",
   "version": "3.9.12"
  }
 },
 "nbformat": 4,
 "nbformat_minor": 5
}
